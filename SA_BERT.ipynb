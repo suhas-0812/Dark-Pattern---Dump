{
 "cells": [
  {
   "cell_type": "code",
   "execution_count": 1,
   "id": "89a4019d",
   "metadata": {},
   "outputs": [],
   "source": [
    "from transformers import AutoTokenizer, AutoModelForSequenceClassification\n",
    "import torch\n",
    "import requests\n",
    "from bs4 import BeautifulSoup\n",
    "import re"
   ]
  },
  {
   "cell_type": "code",
   "execution_count": 2,
   "id": "95555638",
   "metadata": {},
   "outputs": [],
   "source": [
    "tokenizer = AutoTokenizer.from_pretrained('nlptown/bert-base-multilingual-uncased-sentiment')    \n",
    "model = AutoModelForSequenceClassification.from_pretrained('nlptown/bert-base-multilingual-uncased-sentiment')"
   ]
  },
  {
   "cell_type": "code",
   "execution_count": 3,
   "id": "fd6cfd08",
   "metadata": {},
   "outputs": [],
   "source": [
    "def calculate():\n",
    "    message=input()\n",
    "    tokens = tokenizer.encode(message, return_tensors='pt')\n",
    "    result = model(tokens)\n",
    "    return int(torch.argmax(result.logits))+1"
   ]
  },
  {
   "cell_type": "code",
   "execution_count": 4,
   "id": "af475cbb",
   "metadata": {},
   "outputs": [],
   "source": [
    "from sentence_transformers import SentenceTransformer\n",
    "import scipy.spatial"
   ]
  },
  {
   "cell_type": "code",
   "execution_count": 5,
   "id": "775955cd",
   "metadata": {},
   "outputs": [],
   "source": [
    "embedder = SentenceTransformer('all-MiniLM-L6-v2')"
   ]
  },
  {
   "cell_type": "code",
   "execution_count": 6,
   "id": "8e1c5f5d",
   "metadata": {},
   "outputs": [],
   "source": [
    "def compute():\n",
    "    product_des=input(\"Product Description: \")\n",
    "    ad=input(\"Ad: \")\n",
    "    embeddings1 = embedder.encode([product_des])\n",
    "    embeddings2 = embedder.encode([ad])\n",
    "    cosine_similarity = 1 - scipy.spatial.distance.cdist(embeddings1, embeddings2, \"cosine\")[0][0]\n",
    "    return cosine_similarity"
   ]
  },
  {
   "cell_type": "code",
   "execution_count": 9,
   "id": "e38fc92d",
   "metadata": {},
   "outputs": [
    {
     "name": "stdout",
     "output_type": "stream",
     "text": [
      "I am not smart enough to buy continue this subscription\n"
     ]
    },
    {
     "data": {
      "text/plain": [
       "1"
      ]
     },
     "execution_count": 9,
     "metadata": {},
     "output_type": "execute_result"
    }
   ],
   "source": [
    "# Checks if the text is trying to defame the user for cancelling subscription\n",
    "# 1-bad 5-good\n",
    "calculate()"
   ]
  },
  {
   "cell_type": "code",
   "execution_count": 10,
   "id": "6c985ac5",
   "metadata": {},
   "outputs": [
    {
     "name": "stdout",
     "output_type": "stream",
     "text": [
      "Product Description: This is a affordable high quality premium steel water bottle\n",
      "Ad: Get a matress\n"
     ]
    },
    {
     "data": {
      "text/plain": [
       "0.009907345526347977"
      ]
     },
     "execution_count": 10,
     "metadata": {},
     "output_type": "execute_result"
    }
   ],
   "source": [
    "# Checks if the ad is related to the product you are looking at\n",
    "# gives the similarity score\n",
    "compute()"
   ]
  },
  {
   "cell_type": "code",
   "execution_count": null,
   "id": "6fffd4d0",
   "metadata": {},
   "outputs": [],
   "source": []
  }
 ],
 "metadata": {
  "kernelspec": {
   "display_name": "Python 3 (ipykernel)",
   "language": "python",
   "name": "python3"
  },
  "language_info": {
   "codemirror_mode": {
    "name": "ipython",
    "version": 3
   },
   "file_extension": ".py",
   "mimetype": "text/x-python",
   "name": "python",
   "nbconvert_exporter": "python",
   "pygments_lexer": "ipython3",
   "version": "3.10.1"
  }
 },
 "nbformat": 4,
 "nbformat_minor": 5
}
